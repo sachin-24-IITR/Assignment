{
 "cells": [
  {
   "cell_type": "code",
   "execution_count": null,
   "id": "cb0c93be-63a7-4fc4-87d6-25476ae42b5e",
   "metadata": {},
   "outputs": [],
   "source": [
    "Q1.Which keyword is used to create a function? Create a function to return a list of odd numbers in the range of 1 to 25."
   ]
  },
  {
   "cell_type": "code",
   "execution_count": 1,
   "id": "3dbfd1be-4b29-40fe-93b9-6a5745e84dd0",
   "metadata": {},
   "outputs": [
    {
     "data": {
      "text/plain": [
       "[1, 3, 5, 7, 9, 11, 13, 15, 17, 19, 21, 23]"
      ]
     },
     "execution_count": 1,
     "metadata": {},
     "output_type": "execute_result"
    }
   ],
   "source": [
    "#Ans- To create function we use def as a keyword\n",
    "def odd():\n",
    "    odd_list=[]\n",
    "    for i in range (1,25):\n",
    "        if i%2 != 0:\n",
    "            odd_list.append(i)\n",
    "    return odd_list\n",
    "odd()"
   ]
  },
  {
   "cell_type": "code",
   "execution_count": null,
   "id": "10276854-2e57-4c69-855c-b4390799ca93",
   "metadata": {},
   "outputs": [],
   "source": [
    "Q2. Why *args and **kwargs is used in some functions? Create a function each for *args and **kwargs to demonstrate their use. "
   ]
  },
  {
   "cell_type": "code",
   "execution_count": null,
   "id": "3b1942bc-3aa3-4212-8e92-fccf8dec8f27",
   "metadata": {},
   "outputs": [],
   "source": [
    "#Ans-\n",
    "*args is used to pass n no. of arguments\n",
    "**kwargs is used to make a dictionary for a particular function"
   ]
  },
  {
   "cell_type": "code",
   "execution_count": 36,
   "id": "9f790535-20e2-4459-96c9-d7c235d2a167",
   "metadata": {},
   "outputs": [
    {
     "data": {
      "text/plain": [
       "((1, 2.3, (4+5j)), 'xyz')"
      ]
     },
     "execution_count": 36,
     "metadata": {},
     "output_type": "execute_result"
    }
   ],
   "source": [
    "def test1(*args,a):\n",
    "    return (args,a)\n",
    "test1(1,2.3,4+5j,a = \"xyz\")    "
   ]
  },
  {
   "cell_type": "code",
   "execution_count": 37,
   "id": "e7e73df1-964e-4e89-a40d-6a992d78aca5",
   "metadata": {},
   "outputs": [
    {
     "data": {
      "text/plain": [
       "{'a': [1, 2, 3], 'b': ('xyz', 'mno')}"
      ]
     },
     "execution_count": 37,
     "metadata": {},
     "output_type": "execute_result"
    }
   ],
   "source": [
    "def test2(**kwargs):\n",
    "    return (kwargs)\n",
    "test2(a=[1,2,3],b=('xyz','mno'))"
   ]
  },
  {
   "cell_type": "code",
   "execution_count": null,
   "id": "44635c52-4116-493c-83e6-4b1ed6955cae",
   "metadata": {},
   "outputs": [],
   "source": [
    "Q3. What is an iterator in python? Name the method used to initialize the iterator object and the method used for iteration. \n",
    "Use these methods to print the first five elements of the given list [2,4,6,8,10,12,14,16,18,20]. "
   ]
  },
  {
   "cell_type": "code",
   "execution_count": null,
   "id": "dc0de939-2126-4c5e-92bb-a79545679cd7",
   "metadata": {},
   "outputs": [],
   "source": [
    "#Ans-\n",
    "Iterator in python is a object that is used to count a definite no. of values present in a data and can be iterated upon all the values.\n",
    "In python 2 types of iterator are found- iter() and next()\n",
    "iter()- initialize the iterator object and return itself\n",
    "next()- gives next value from the iterator "
   ]
  },
  {
   "cell_type": "code",
   "execution_count": 6,
   "id": "65630951-29f8-4c7d-839e-6b5e5acd6efd",
   "metadata": {},
   "outputs": [
    {
     "name": "stdout",
     "output_type": "stream",
     "text": [
      "2\n",
      "4\n",
      "6\n",
      "8\n",
      "10\n"
     ]
    }
   ],
   "source": [
    "n=[2,4,6,8,10,12,14,16,18,20]\n",
    "i=iter(n)\n",
    "for x in range (5):\n",
    "    y=next(i)\n",
    "    print (y)"
   ]
  },
  {
   "cell_type": "code",
   "execution_count": null,
   "id": "b2bc5384-639d-4aa9-a6c5-d285ea19f023",
   "metadata": {},
   "outputs": [],
   "source": [
    "Q4. What is a generator function in python? Why yield keyword is used? Give an example of a generator function."
   ]
  },
  {
   "cell_type": "code",
   "execution_count": 16,
   "id": "2a797508-8c65-4de5-ac5e-65c4668597d8",
   "metadata": {},
   "outputs": [
    {
     "data": {
      "text/plain": [
       "<generator object fib at 0x732c040fceb0>"
      ]
     },
     "execution_count": 16,
     "metadata": {},
     "output_type": "execute_result"
    }
   ],
   "source": [
    "#Ans-\n",
    "'''In a generator function in python is a type of  iterator function which uses a keyword 'yield' to return the values one by one.'''\n",
    "def fib(n):\n",
    "    a,b=0,1\n",
    "    for i in range (n):\n",
    "        yield a\n",
    "        a,b = b,a+b\n",
    "    return a,b\n",
    "fib(10) "
   ]
  },
  {
   "cell_type": "code",
   "execution_count": 17,
   "id": "daa1c5a7-3065-4675-b393-94003722969b",
   "metadata": {},
   "outputs": [
    {
     "name": "stdout",
     "output_type": "stream",
     "text": [
      "0\n",
      "1\n",
      "1\n",
      "2\n",
      "3\n",
      "5\n",
      "8\n",
      "13\n",
      "21\n",
      "34\n"
     ]
    }
   ],
   "source": [
    "for i in fib(10):\n",
    "    print (i)"
   ]
  },
  {
   "cell_type": "code",
   "execution_count": null,
   "id": "c73462dd-4871-456c-9f84-600b888f1478",
   "metadata": {},
   "outputs": [],
   "source": [
    "Q5. Create a generator function for prime number less than 1000. Use the next() method to print the first 20 prime numbers."
   ]
  },
  {
   "cell_type": "code",
   "execution_count": 5,
   "id": "29731a76-222c-42d3-917a-af1828df8e00",
   "metadata": {},
   "outputs": [
    {
     "name": "stdout",
     "output_type": "stream",
     "text": [
      "2\n",
      "3\n",
      "5\n",
      "7\n",
      "11\n",
      "13\n",
      "17\n",
      "19\n",
      "23\n",
      "29\n",
      "31\n",
      "37\n",
      "41\n",
      "43\n",
      "47\n",
      "53\n",
      "59\n",
      "61\n",
      "67\n",
      "71\n"
     ]
    }
   ],
   "source": [
    "def prime_gen(limit):\n",
    "    \"\"\"Generator function to yield prime numbers less than 'limit', i.e 1000.\"\"\"\n",
    "    def prime(n):\n",
    "        \"\"\"Helper function to check if a number is prime.\"\"\"\n",
    "        if n <= 1:\n",
    "            return False\n",
    "        if n <= 3:\n",
    "            return True\n",
    "        if n % 2 == 0 or n % 3 == 0:\n",
    "            return False\n",
    "        i = 5\n",
    "        while i * i <= n:\n",
    "            if n % i == 0 or n % (i + 2) == 0:\n",
    "                return False\n",
    "            i += 6\n",
    "        return True\n",
    "\n",
    "    for num in range(2, limit):\n",
    "        if prime(num):\n",
    "            yield num\n",
    "\n",
    "# A generator function for prime numbers less than 1000\n",
    "primes = prime_gen(1000)\n",
    "\n",
    "# Print the first 20 prime numbers using next()\n",
    "for x in range(20):\n",
    "    print(next(primes))\n"
   ]
  },
  {
   "cell_type": "code",
   "execution_count": null,
   "id": "37e5cb13-ab68-4c1c-91ff-f070d7d577a0",
   "metadata": {},
   "outputs": [],
   "source": [
    "Q6. Write a python program to print the first 10 Fibonaccinumbers using while loop."
   ]
  },
  {
   "cell_type": "code",
   "execution_count": 16,
   "id": "04ae55a4-d211-4eb8-835a-e0a341230195",
   "metadata": {},
   "outputs": [
    {
     "name": "stdout",
     "output_type": "stream",
     "text": [
      "0 1 1 2 3 5 8 13 21 34 "
     ]
    }
   ],
   "source": [
    "def fibo(count):\n",
    "    \"\"\"Prints the first 'count' Fibonacci numbers using a while loop.\"\"\"\n",
    "    a, b = 0, 1  \n",
    "    index = 0   \n",
    "\n",
    "    while index < count:\n",
    "        print(a, end=' ')\n",
    "        a, b = b, a + b \n",
    "        index += 1\n",
    "\n",
    "# Print the first 10 Fibonacci numbers\n",
    "fibo(10)\n"
   ]
  },
  {
   "cell_type": "code",
   "execution_count": null,
   "id": "3add5be4-77e3-408a-9177-d44bcac673de",
   "metadata": {},
   "outputs": [],
   "source": [
    "Q7.Write a list comprehension to iterate through the given string:'pwskills'.Expected output:['p','w','s','k','i','l','l','s']     "
   ]
  },
  {
   "cell_type": "code",
   "execution_count": 28,
   "id": "03bda3a7-8070-4192-8e7e-c96b518229eb",
   "metadata": {},
   "outputs": [
    {
     "name": "stdout",
     "output_type": "stream",
     "text": [
      "['p', 'w', 's', 'k', 'i', 'l', 'l', 's']\n"
     ]
    }
   ],
   "source": [
    "s = 'pwskills'\n",
    "list=[a for a in s]\n",
    "print(list)"
   ]
  },
  {
   "cell_type": "code",
   "execution_count": null,
   "id": "29fea010-e87d-426b-9218-a299640c0e3b",
   "metadata": {},
   "outputs": [],
   "source": [
    "Q8. Write a python program to check whether a given number is palindrome or not using while loop."
   ]
  },
  {
   "cell_type": "code",
   "execution_count": 31,
   "id": "38b99e6c-2fe3-4062-8cba-c9a6d321b479",
   "metadata": {},
   "outputs": [
    {
     "name": "stdin",
     "output_type": "stream",
     "text": [
      "Enter a number:  121\n"
     ]
    },
    {
     "name": "stdout",
     "output_type": "stream",
     "text": [
      "121 is a palindrome.\n"
     ]
    }
   ],
   "source": [
    "number = int(input(\"Enter a number: \"))\n",
    "\n",
    "original_number = number\n",
    "reversed_number = 0\n",
    "\n",
    "# Reverse the number\n",
    "while number > 0:\n",
    "    digit = number % 10\n",
    "    reversed_number = reversed_number * 10 + digit\n",
    "    number //= 10\n",
    "\n",
    "# Check if the original number is equal to the reversed number\n",
    "if original_number == reversed_number:\n",
    "    print(f\"{original_number} is a palindrome.\")\n",
    "else:\n",
    "    print(f\"{original_number} is not a palindrome.\")\n"
   ]
  },
  {
   "cell_type": "code",
   "execution_count": null,
   "id": "f00370db-4729-4efa-b8fc-19177e63addc",
   "metadata": {},
   "outputs": [],
   "source": [
    "Q9. Write a code to print odd numbers from 1 to 100 using list comprehension."
   ]
  },
  {
   "cell_type": "code",
   "execution_count": null,
   "id": "3177c832-ca04-4a48-bab1-54f9ab172a06",
   "metadata": {},
   "outputs": [],
   "source": [
    "num1 = [x for x in range (1,101)]\n",
    "odd_num = [x for x in num1 if x%2 !=]"
   ]
  }
 ],
 "metadata": {
  "kernelspec": {
   "display_name": "Python 3 (ipykernel)",
   "language": "python",
   "name": "python3"
  },
  "language_info": {
   "codemirror_mode": {
    "name": "ipython",
    "version": 3
   },
   "file_extension": ".py",
   "mimetype": "text/x-python",
   "name": "python",
   "nbconvert_exporter": "python",
   "pygments_lexer": "ipython3",
   "version": "3.10.8"
  }
 },
 "nbformat": 4,
 "nbformat_minor": 5
}
